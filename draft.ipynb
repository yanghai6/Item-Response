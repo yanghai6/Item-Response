{
 "cells": [
  {
   "cell_type": "code",
   "execution_count": 1,
   "metadata": {},
   "outputs": [],
   "source": [
    "import numpy as np\n",
    "import matplotlib.pyplot as plt"
   ]
  },
  {
   "cell_type": "code",
   "execution_count": 24,
   "metadata": {},
   "outputs": [
    {
     "name": "stdout",
     "output_type": "stream",
     "text": [
      "[2. 1. 3.]\n",
      "[4. 5. 6. 7.]\n"
     ]
    }
   ],
   "source": [
    "theta = np.zeros(3)\n",
    "theta[0] = 2\n",
    "theta[1] = 1\n",
    "theta[2] = 3\n",
    "beta = np.zeros(4)\n",
    "beta[0] = 4\n",
    "beta[1] = 5\n",
    "beta[2] = 6\n",
    "beta[3] = 7\n",
    "print(theta)\n",
    "print(beta)"
   ]
  },
  {
   "cell_type": "code",
   "execution_count": 83,
   "metadata": {},
   "outputs": [],
   "source": [
    "theta = np.zeros(3)\n",
    "beta = np.zeros(4)"
   ]
  },
  {
   "cell_type": "code",
   "execution_count": 25,
   "metadata": {},
   "outputs": [
    {
     "name": "stdout",
     "output_type": "stream",
     "text": [
      "[[2.]\n",
      " [1.]\n",
      " [3.]]\n",
      "[[4. 5. 6. 7.]]\n"
     ]
    }
   ],
   "source": [
    "theta = theta.reshape((3,1))\n",
    "beta = beta.reshape((1,4))\n",
    "print(theta)\n",
    "print(beta)"
   ]
  },
  {
   "cell_type": "code",
   "execution_count": 85,
   "metadata": {},
   "outputs": [
    {
     "data": {
      "text/plain": [
       "array([[0., 0., 0., 0.],\n",
       "       [0., 0., 0., 0.],\n",
       "       [0., 0., 0., 0.]])"
      ]
     },
     "execution_count": 85,
     "metadata": {},
     "output_type": "execute_result"
    }
   ],
   "source": [
    "theta-beta"
   ]
  },
  {
   "cell_type": "code",
   "execution_count": 8,
   "metadata": {},
   "outputs": [
    {
     "data": {
      "text/plain": [
       "matrix([[ 1.,  0., nan,  1.],\n",
       "        [nan,  0.,  1., nan],\n",
       "        [ 1., nan, nan,  0.]])"
      ]
     },
     "execution_count": 8,
     "metadata": {},
     "output_type": "execute_result"
    }
   ],
   "source": [
    "c1 = np.zeros(4)\n",
    "c2 = np.zeros(4)\n",
    "c3 = np.zeros(4)\n",
    "c1[0] = 1\n",
    "c1[1] = 0\n",
    "c1[2] = np.NaN\n",
    "c1[3] = 1\n",
    "c2[0] = np.NaN\n",
    "c2[1] = 0\n",
    "c2[2] = 1\n",
    "c2[3] = np.NaN\n",
    "c3[0] = 1\n",
    "c3[1] = np.NaN\n",
    "c3[2] = np.NaN\n",
    "c3[3] = 0\n",
    "c = [c1,c2,c3]\n",
    "c = np.asmatrix(c)\n",
    "c"
   ]
  },
  {
   "cell_type": "code",
   "execution_count": 87,
   "metadata": {},
   "outputs": [],
   "source": [
    "diff = np.asmatrix(theta-beta)"
   ]
  },
  {
   "cell_type": "code",
   "execution_count": 88,
   "metadata": {},
   "outputs": [
    {
     "data": {
      "text/plain": [
       "matrix([[ 0.,  0., nan,  0.],\n",
       "        [nan,  0.,  0., nan],\n",
       "        [ 0., nan, nan,  0.]])"
      ]
     },
     "execution_count": 88,
     "metadata": {},
     "output_type": "execute_result"
    }
   ],
   "source": [
    "np.multiply(c, diff)"
   ]
  },
  {
   "cell_type": "code",
   "execution_count": 89,
   "metadata": {},
   "outputs": [
    {
     "name": "stdout",
     "output_type": "stream",
     "text": [
      "[[ 1.  0. nan  1.]\n",
      " [nan  0.  1. nan]\n",
      " [ 1. nan nan  0.]]\n",
      "[[0. 0. 0. 0.]\n",
      " [0. 0. 0. 0.]\n",
      " [0. 0. 0. 0.]]\n"
     ]
    }
   ],
   "source": [
    "print(c)\n",
    "print(diff)"
   ]
  },
  {
   "cell_type": "code",
   "execution_count": 94,
   "metadata": {},
   "outputs": [
    {
     "data": {
      "text/plain": [
       "matrix([[-0.69314718, -0.69314718,         nan, -0.69314718],\n",
       "        [        nan, -0.69314718, -0.69314718,         nan],\n",
       "        [-0.69314718,         nan,         nan, -0.69314718]])"
      ]
     },
     "execution_count": 94,
     "metadata": {},
     "output_type": "execute_result"
    }
   ],
   "source": [
    "np.multiply(c, diff) - np.log(1+np.exp(diff))"
   ]
  },
  {
   "cell_type": "code",
   "execution_count": 95,
   "metadata": {},
   "outputs": [],
   "source": [
    "m = np.multiply(c, diff) - np.log(1+np.exp(diff))"
   ]
  },
  {
   "cell_type": "code",
   "execution_count": 96,
   "metadata": {},
   "outputs": [
    {
     "name": "stdout",
     "output_type": "stream",
     "text": [
      "[[-0.69314718 -0.69314718         nan -0.69314718]\n",
      " [        nan -0.69314718 -0.69314718         nan]\n",
      " [-0.69314718         nan         nan -0.69314718]]\n",
      "[[-0.69314718 -0.69314718  0.         -0.69314718]\n",
      " [ 0.         -0.69314718 -0.69314718  0.        ]\n",
      " [-0.69314718  0.          0.         -0.69314718]]\n"
     ]
    }
   ],
   "source": [
    "print(m)\n",
    "m[np.isnan(m)] = 0\n",
    "print(m)"
   ]
  },
  {
   "cell_type": "code",
   "execution_count": 99,
   "metadata": {},
   "outputs": [
    {
     "data": {
      "text/plain": [
       "-39293.12737158218"
      ]
     },
     "execution_count": 99,
     "metadata": {},
     "output_type": "execute_result"
    }
   ],
   "source": [
    "np.sum(m)*56688 / 7"
   ]
  },
  {
   "cell_type": "code",
   "execution_count": 49,
   "metadata": {},
   "outputs": [
    {
     "data": {
      "text/plain": [
       "matrix([[-3., -4., -5., -6.],\n",
       "        [-2., -3., -4., -5.],\n",
       "        [-1., -2., -3., -4.]])"
      ]
     },
     "execution_count": 49,
     "metadata": {},
     "output_type": "execute_result"
    }
   ],
   "source": [
    "diff"
   ]
  },
  {
   "cell_type": "code",
   "execution_count": 65,
   "metadata": {},
   "outputs": [
    {
     "data": {
      "text/plain": [
       "matrix([[ -6.,  -9., -12., -15.]])"
      ]
     },
     "execution_count": 65,
     "metadata": {},
     "output_type": "execute_result"
    }
   ],
   "source": [
    "np.sum(diff, axis=0)"
   ]
  },
  {
   "cell_type": "code",
   "execution_count": 53,
   "metadata": {},
   "outputs": [
    {
     "data": {
      "text/plain": [
       "matrix([[ 0.95257413, -0.01798621,         nan,  0.99752738],\n",
       "        [        nan, -0.04742587,  0.98201379,         nan],\n",
       "        [ 0.73105858,         nan,         nan, -0.01798621]])"
      ]
     },
     "execution_count": 53,
     "metadata": {},
     "output_type": "execute_result"
    }
   ],
   "source": [
    "c - np.exp(diff) / (1+np.exp(diff))"
   ]
  },
  {
   "cell_type": "code",
   "execution_count": 57,
   "metadata": {},
   "outputs": [
    {
     "data": {
      "text/plain": [
       "matrix([[1.93211529],\n",
       "        [0.93458792],\n",
       "        [0.71307237]])"
      ]
     },
     "execution_count": 57,
     "metadata": {},
     "output_type": "execute_result"
    }
   ],
   "source": [
    "m1 = c - np.exp(diff) / (1+np.exp(diff))\n",
    "m1[np.isnan(m1)] = 0\n",
    "np.sum(m1, axis=1)"
   ]
  },
  {
   "cell_type": "code",
   "execution_count": 70,
   "metadata": {},
   "outputs": [
    {
     "name": "stdout",
     "output_type": "stream",
     "text": [
      "[[4.]\n",
      " [5.]\n",
      " [6.]\n",
      " [7.]]\n",
      "[[ -6.  -9. -12. -15.]]\n",
      "[[10. 14. 18. 22.]]\n"
     ]
    }
   ],
   "source": [
    "print(beta.T)\n",
    "print(np.sum(diff, axis=0))\n",
    "print(beta-np.sum(diff, axis=0))"
   ]
  },
  {
   "cell_type": "code",
   "execution_count": 104,
   "metadata": {},
   "outputs": [
    {
     "name": "stdout",
     "output_type": "stream",
     "text": [
      "range(1, 5)\n"
     ]
    }
   ],
   "source": [
    "print(range(1,5))"
   ]
  },
  {
   "cell_type": "code",
   "execution_count": 109,
   "metadata": {},
   "outputs": [
    {
     "data": {
      "image/png": "[encoded data removed]",
      "text/plain": [
       "<Figure size 432x288 with 1 Axes>"
      ]
     },
     "metadata": {
      "needs_background": "light"
     },
     "output_type": "display_data"
    }
   ],
   "source": [
    "plt.plot(range(5), range(1, 6))\n",
    "plt.show()"
   ]
  },
  {
   "cell_type": "code",
   "execution_count": 125,
   "metadata": {},
   "outputs": [
    {
     "data": {
      "text/plain": [
       "array([[nan, nan],\n",
       "       [nan, nan],\n",
       "       [nan, nan]])"
      ]
     },
     "execution_count": 125,
     "metadata": {},
     "output_type": "execute_result"
    }
   ],
   "source": [
    "np.nan * np.empty((3,2))"
   ]
  },
  {
   "cell_type": "code",
   "execution_count": 117,
   "metadata": {},
   "outputs": [
    {
     "data": {
      "text/plain": [
       "nan"
      ]
     },
     "execution_count": 117,
     "metadata": {},
     "output_type": "execute_result"
    }
   ],
   "source": [
    "t"
   ]
  },
  {
   "cell_type": "code",
   "execution_count": 131,
   "metadata": {},
   "outputs": [
    {
     "data": {
      "text/plain": [
       "array([2., 1., 3.])"
      ]
     },
     "execution_count": 131,
     "metadata": {},
     "output_type": "execute_result"
    }
   ],
   "source": [
    "theta"
   ]
  },
  {
   "cell_type": "code",
   "execution_count": 132,
   "metadata": {},
   "outputs": [
    {
     "data": {
      "text/plain": [
       "array([1., 2., 3.])"
      ]
     },
     "execution_count": 132,
     "metadata": {},
     "output_type": "execute_result"
    }
   ],
   "source": [
    "np.sort(theta)"
   ]
  },
  {
   "cell_type": "code",
   "execution_count": 6,
   "metadata": {},
   "outputs": [],
   "source": [
    "from sklearn.utils import resample\n",
    "def bootstrap(data, size):\n",
    "    all = len(data['user_id'])\n",
    "    id = resample(range(all), n_samples=size, replace=True)\n",
    "    user_id = [data['user_id'][i] for i in id]\n",
    "    question_id = [data['question_id'][i] for i in id]\n",
    "    is_correct = [data['is_correct'][i] for i in id]\n",
    "    sample = {'user_id': user_id, 'question_id': question_id,\n",
    "              'is_correct': is_correct}\n",
    "    return sample"
   ]
  },
  {
   "cell_type": "code",
   "execution_count": 7,
   "metadata": {},
   "outputs": [
    {
     "data": {
      "text/plain": [
       "{'user_id': [2, 4, 4, 3, 4],\n",
       " 'question_id': [200, 400, 400, 300, 400],\n",
       " 'is_correct': [0, 1, 1, 0, 1]}"
      ]
     },
     "execution_count": 7,
     "metadata": {},
     "output_type": "execute_result"
    }
   ],
   "source": [
    "data = {'user_id': [1,2,3,4,5], 'question_id':[100,200,300,400,500], 'is_correct':[1,0,0,1,1]}\n",
    "sample = bootstrap(data, 5)\n",
    "sample"
   ]
  },
  {
   "cell_type": "code",
   "execution_count": 9,
   "metadata": {},
   "outputs": [
    {
     "data": {
      "text/plain": [
       "matrix([[ 1.,  0., nan,  1.],\n",
       "        [nan,  0.,  1., nan],\n",
       "        [ 1., nan, nan,  0.]])"
      ]
     },
     "execution_count": 9,
     "metadata": {},
     "output_type": "execute_result"
    }
   ],
   "source": [
    "c"
   ]
  },
  {
   "cell_type": "code",
   "execution_count": 12,
   "metadata": {},
   "outputs": [
    {
     "data": {
      "text/plain": [
       "matrix([[nan,  0.,  1., nan],\n",
       "        [ 1., nan, nan,  0.],\n",
       "        [nan,  0.,  1., nan],\n",
       "        [ 1.,  0., nan,  1.],\n",
       "        [ 1., nan, nan,  0.]])"
      ]
     },
     "execution_count": 12,
     "metadata": {},
     "output_type": "execute_result"
    }
   ],
   "source": [
    "resample(c, n_samples = 5, replace=True)"
   ]
  },
  {
   "cell_type": "code",
   "execution_count": 18,
   "metadata": {},
   "outputs": [
    {
     "data": {
      "text/plain": [
       "array([3. , 1.5, 4.5])"
      ]
     },
     "execution_count": 18,
     "metadata": {},
     "output_type": "execute_result"
    }
   ],
   "source": [
    "a = theta+ theta\n",
    "(a + theta) / 2"
   ]
  },
  {
   "cell_type": "code",
   "execution_count": 29,
   "metadata": {},
   "outputs": [
    {
     "data": {
      "text/plain": [
       "array([[1, 0, 0, 0],\n",
       "       [0, 2, 0, 0],\n",
       "       [0, 0, 3, 0],\n",
       "       [0, 0, 0, 4]])"
      ]
     },
     "execution_count": 29,
     "metadata": {},
     "output_type": "execute_result"
    }
   ],
   "source": [
    "k = np.array([1,2,3,4])\n",
    "k_m = np.diag(k)\n",
    "k_m"
   ]
  },
  {
   "cell_type": "code",
   "execution_count": 31,
   "metadata": {},
   "outputs": [
    {
     "data": {
      "text/plain": [
       "array([[-2., -3., -4., -5.],\n",
       "       [-3., -4., -5., -6.],\n",
       "       [-1., -2., -3., -4.]])"
      ]
     },
     "execution_count": 31,
     "metadata": {},
     "output_type": "execute_result"
    }
   ],
   "source": [
    "theta-beta"
   ]
  },
  {
   "cell_type": "code",
   "execution_count": 33,
   "metadata": {},
   "outputs": [
    {
     "data": {
      "text/plain": [
       "array([[-2., -3., -4., -5.],\n",
       "       [-3., -4., -5., -6.],\n",
       "       [-1., -2., -3., -4.]])"
      ]
     },
     "execution_count": 33,
     "metadata": {},
     "output_type": "execute_result"
    }
   ],
   "source": [
    "(theta-beta).dot(np.diag(np.ones(4)))"
   ]
  },
  {
   "cell_type": "code",
   "execution_count": null,
   "metadata": {},
   "outputs": [],
   "source": []
  }
 ],
 "metadata": {
  "kernelspec": {
   "display_name": "Python 3",
   "language": "python",
   "name": "python3"
  },
  "language_info": {
   "codemirror_mode": {
    "name": "ipython",
    "version": 3
   },
   "file_extension": ".py",
   "mimetype": "text/x-python",
   "name": "python",
   "nbconvert_exporter": "python",
   "pygments_lexer": "ipython3",
   "version": "3.8.1"
  }
 },
 "nbformat": 4,
 "nbformat_minor": 4
}
